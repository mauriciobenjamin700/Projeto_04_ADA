{
 "cells": [
  {
   "cell_type": "markdown",
   "metadata": {},
   "source": [
    "# PROJETO ADA MODULO 4 - Steam"
   ]
  },
  {
   "cell_type": "markdown",
   "metadata": {},
   "source": [
    "Steam is a video game digital distribution service by Valve. It was launched as a standalone software client in September 2003 as a way for Valve to provide automatic updates for their games and, expanded to include games from third-party publishers. Steam has also expanded into an online web-based and mobile digital storefront."
   ]
  },
  {
   "cell_type": "markdown",
   "metadata": {},
   "source": [
    "# Dependencias necessárias para executar o projeto"
   ]
  },
  {
   "cell_type": "code",
   "execution_count": 2,
   "metadata": {},
   "outputs": [
    {
     "name": "stdout",
     "output_type": "stream",
     "text": [
      "Requirement already satisfied: pandas in c:\\users\\pc\\appdata\\local\\programs\\python\\python311\\lib\\site-packages (2.1.3)\n",
      "Requirement already satisfied: numpy<2,>=1.23.2 in c:\\users\\pc\\appdata\\local\\programs\\python\\python311\\lib\\site-packages (from pandas) (1.26.1)\n",
      "Requirement already satisfied: python-dateutil>=2.8.2 in c:\\users\\pc\\appdata\\roaming\\python\\python311\\site-packages (from pandas) (2.8.2)\n",
      "Requirement already satisfied: pytz>=2020.1 in c:\\users\\pc\\appdata\\local\\programs\\python\\python311\\lib\\site-packages (from pandas) (2023.3.post1)\n",
      "Requirement already satisfied: tzdata>=2022.1 in c:\\users\\pc\\appdata\\local\\programs\\python\\python311\\lib\\site-packages (from pandas) (2023.3)\n",
      "Requirement already satisfied: six>=1.5 in c:\\users\\pc\\appdata\\roaming\\python\\python311\\site-packages (from python-dateutil>=2.8.2->pandas) (1.16.0)\n"
     ]
    },
    {
     "name": "stderr",
     "output_type": "stream",
     "text": [
      "\n",
      "[notice] A new release of pip is available: 23.3.1 -> 23.3.2\n",
      "[notice] To update, run: python.exe -m pip install --upgrade pip\n"
     ]
    },
    {
     "name": "stdout",
     "output_type": "stream",
     "text": [
      "Requirement already satisfied: numpy in c:\\users\\pc\\appdata\\local\\programs\\python\\python311\\lib\\site-packages (1.26.1)\n"
     ]
    },
    {
     "name": "stderr",
     "output_type": "stream",
     "text": [
      "\n",
      "[notice] A new release of pip is available: 23.3.1 -> 23.3.2\n",
      "[notice] To update, run: python.exe -m pip install --upgrade pip\n"
     ]
    },
    {
     "name": "stdout",
     "output_type": "stream",
     "text": [
      "Requirement already satisfied: matplotlib in c:\\users\\pc\\appdata\\local\\programs\\python\\python311\\lib\\site-packages (3.8.1)\n",
      "Requirement already satisfied: contourpy>=1.0.1 in c:\\users\\pc\\appdata\\local\\programs\\python\\python311\\lib\\site-packages (from matplotlib) (1.1.1)\n",
      "Requirement already satisfied: cycler>=0.10 in c:\\users\\pc\\appdata\\local\\programs\\python\\python311\\lib\\site-packages (from matplotlib) (0.12.1)\n",
      "Requirement already satisfied: fonttools>=4.22.0 in c:\\users\\pc\\appdata\\local\\programs\\python\\python311\\lib\\site-packages (from matplotlib) (4.43.1)\n",
      "Requirement already satisfied: kiwisolver>=1.3.1 in c:\\users\\pc\\appdata\\local\\programs\\python\\python311\\lib\\site-packages (from matplotlib) (1.4.5)\n",
      "Requirement already satisfied: numpy<2,>=1.21 in c:\\users\\pc\\appdata\\local\\programs\\python\\python311\\lib\\site-packages (from matplotlib) (1.26.1)\n",
      "Requirement already satisfied: packaging>=20.0 in c:\\users\\pc\\appdata\\roaming\\python\\python311\\site-packages (from matplotlib) (23.1)\n",
      "Requirement already satisfied: pillow>=8 in c:\\users\\pc\\appdata\\local\\programs\\python\\python311\\lib\\site-packages (from matplotlib) (10.0.1)\n",
      "Requirement already satisfied: pyparsing>=2.3.1 in c:\\users\\pc\\appdata\\local\\programs\\python\\python311\\lib\\site-packages (from matplotlib) (3.1.1)\n",
      "Requirement already satisfied: python-dateutil>=2.7 in c:\\users\\pc\\appdata\\roaming\\python\\python311\\site-packages (from matplotlib) (2.8.2)\n",
      "Requirement already satisfied: six>=1.5 in c:\\users\\pc\\appdata\\roaming\\python\\python311\\site-packages (from python-dateutil>=2.7->matplotlib) (1.16.0)\n"
     ]
    },
    {
     "name": "stderr",
     "output_type": "stream",
     "text": [
      "\n",
      "[notice] A new release of pip is available: 23.3.1 -> 23.3.2\n",
      "[notice] To update, run: python.exe -m pip install --upgrade pip\n"
     ]
    }
   ],
   "source": [
    "!pip install pandas\n",
    "!pip install numpy\n",
    "!pip install matplotlib"
   ]
  },
  {
   "cell_type": "markdown",
   "metadata": {},
   "source": [
    "# Caso queira usar as dependencias via arquivo, use o requirements.txt"
   ]
  },
  {
   "cell_type": "code",
   "execution_count": 3,
   "metadata": {},
   "outputs": [],
   "source": [
    "!pip freeze > requirements.txt"
   ]
  },
  {
   "cell_type": "code",
   "execution_count": 4,
   "metadata": {},
   "outputs": [
    {
     "name": "stdout",
     "output_type": "stream",
     "text": [
      "Requirement already satisfied: asttokens==2.4.0 in c:\\users\\pc\\appdata\\roaming\\python\\python311\\site-packages (from -r requirements.txt (line 1)) (2.4.0)\n",
      "Requirement already satisfied: backcall==0.2.0 in c:\\users\\pc\\appdata\\roaming\\python\\python311\\site-packages (from -r requirements.txt (line 2)) (0.2.0)\n",
      "Requirement already satisfied: beautifulsoup4==4.12.2 in c:\\users\\pc\\appdata\\local\\programs\\python\\python311\\lib\\site-packages (from -r requirements.txt (line 3)) (4.12.2)\n",
      "Requirement already satisfied: certifi==2023.7.22 in c:\\users\\pc\\appdata\\local\\programs\\python\\python311\\lib\\site-packages (from -r requirements.txt (line 4)) (2023.7.22)\n",
      "Requirement already satisfied: charset-normalizer==3.2.0 in c:\\users\\pc\\appdata\\local\\programs\\python\\python311\\lib\\site-packages (from -r requirements.txt (line 5)) (3.2.0)\n",
      "Requirement already satisfied: colorama==0.4.6 in c:\\users\\pc\\appdata\\roaming\\python\\python311\\site-packages (from -r requirements.txt (line 6)) (0.4.6)\n",
      "Requirement already satisfied: comm==0.1.4 in c:\\users\\pc\\appdata\\roaming\\python\\python311\\site-packages (from -r requirements.txt (line 7)) (0.1.4)\n",
      "Requirement already satisfied: contourpy==1.1.1 in c:\\users\\pc\\appdata\\local\\programs\\python\\python311\\lib\\site-packages (from -r requirements.txt (line 8)) (1.1.1)\n",
      "Requirement already satisfied: cycler==0.12.1 in c:\\users\\pc\\appdata\\local\\programs\\python\\python311\\lib\\site-packages (from -r requirements.txt (line 9)) (0.12.1)\n",
      "Requirement already satisfied: debugpy==1.8.0 in c:\\users\\pc\\appdata\\roaming\\python\\python311\\site-packages (from -r requirements.txt (line 10)) (1.8.0)\n",
      "Requirement already satisfied: decorator==5.1.1 in c:\\users\\pc\\appdata\\roaming\\python\\python311\\site-packages (from -r requirements.txt (line 11)) (5.1.1)\n",
      "Requirement already satisfied: docutils==0.20.1 in c:\\users\\pc\\appdata\\local\\programs\\python\\python311\\lib\\site-packages (from -r requirements.txt (line 12)) (0.20.1)\n",
      "Requirement already satisfied: et-xmlfile==1.1.0 in c:\\users\\pc\\appdata\\local\\programs\\python\\python311\\lib\\site-packages (from -r requirements.txt (line 13)) (1.1.0)\n",
      "Requirement already satisfied: executing==1.2.0 in c:\\users\\pc\\appdata\\roaming\\python\\python311\\site-packages (from -r requirements.txt (line 14)) (1.2.0)\n",
      "Requirement already satisfied: filelock==3.12.4 in c:\\users\\pc\\appdata\\local\\programs\\python\\python311\\lib\\site-packages (from -r requirements.txt (line 15)) (3.12.4)\n",
      "Requirement already satisfied: fonttools==4.43.1 in c:\\users\\pc\\appdata\\local\\programs\\python\\python311\\lib\\site-packages (from -r requirements.txt (line 16)) (4.43.1)\n",
      "Requirement already satisfied: fsspec==2023.10.0 in c:\\users\\pc\\appdata\\local\\programs\\python\\python311\\lib\\site-packages (from -r requirements.txt (line 17)) (2023.10.0)\n",
      "Requirement already satisfied: gdown==4.7.1 in c:\\users\\pc\\appdata\\local\\programs\\python\\python311\\lib\\site-packages (from -r requirements.txt (line 18)) (4.7.1)\n",
      "Requirement already satisfied: idna==3.4 in c:\\users\\pc\\appdata\\local\\programs\\python\\python311\\lib\\site-packages (from -r requirements.txt (line 19)) (3.4)\n",
      "Requirement already satisfied: imageio==2.32.0 in c:\\users\\pc\\appdata\\local\\programs\\python\\python311\\lib\\site-packages (from -r requirements.txt (line 20)) (2.32.0)\n",
      "Requirement already satisfied: ipykernel==6.25.2 in c:\\users\\pc\\appdata\\roaming\\python\\python311\\site-packages (from -r requirements.txt (line 21)) (6.25.2)\n",
      "Requirement already satisfied: ipython==8.15.0 in c:\\users\\pc\\appdata\\roaming\\python\\python311\\site-packages (from -r requirements.txt (line 22)) (8.15.0)\n",
      "Requirement already satisfied: jedi==0.19.0 in c:\\users\\pc\\appdata\\roaming\\python\\python311\\site-packages (from -r requirements.txt (line 23)) (0.19.0)\n",
      "Requirement already satisfied: Jinja2==3.1.2 in c:\\users\\pc\\appdata\\local\\programs\\python\\python311\\lib\\site-packages (from -r requirements.txt (line 24)) (3.1.2)\n",
      "Requirement already satisfied: joblib==1.3.2 in c:\\users\\pc\\appdata\\local\\programs\\python\\python311\\lib\\site-packages (from -r requirements.txt (line 25)) (1.3.2)\n",
      "Requirement already satisfied: jupyter_client==8.3.1 in c:\\users\\pc\\appdata\\roaming\\python\\python311\\site-packages (from -r requirements.txt (line 26)) (8.3.1)\n",
      "Requirement already satisfied: jupyter_core==5.3.1 in c:\\users\\pc\\appdata\\roaming\\python\\python311\\site-packages (from -r requirements.txt (line 27)) (5.3.1)\n",
      "Requirement already satisfied: Kivy==2.2.1 in c:\\users\\pc\\appdata\\local\\programs\\python\\python311\\lib\\site-packages (from -r requirements.txt (line 28)) (2.2.1)\n",
      "Requirement already satisfied: kivy-deps.angle==0.3.3 in c:\\users\\pc\\appdata\\local\\programs\\python\\python311\\lib\\site-packages (from -r requirements.txt (line 29)) (0.3.3)\n",
      "Requirement already satisfied: kivy-deps.glew==0.3.1 in c:\\users\\pc\\appdata\\local\\programs\\python\\python311\\lib\\site-packages (from -r requirements.txt (line 30)) (0.3.1)\n",
      "Requirement already satisfied: kivy-deps.gstreamer==0.3.3 in c:\\users\\pc\\appdata\\local\\programs\\python\\python311\\lib\\site-packages (from -r requirements.txt (line 31)) (0.3.3)\n",
      "Requirement already satisfied: kivy-deps.sdl2==0.6.0 in c:\\users\\pc\\appdata\\local\\programs\\python\\python311\\lib\\site-packages (from -r requirements.txt (line 32)) (0.6.0)\n",
      "Requirement already satisfied: Kivy-Garden==0.1.5 in c:\\users\\pc\\appdata\\local\\programs\\python\\python311\\lib\\site-packages (from -r requirements.txt (line 33)) (0.1.5)\n",
      "Requirement already satisfied: kiwisolver==1.4.5 in c:\\users\\pc\\appdata\\local\\programs\\python\\python311\\lib\\site-packages (from -r requirements.txt (line 34)) (1.4.5)\n",
      "Requirement already satisfied: lazy_loader==0.3 in c:\\users\\pc\\appdata\\local\\programs\\python\\python311\\lib\\site-packages (from -r requirements.txt (line 35)) (0.3)\n",
      "Requirement already satisfied: MarkupSafe==2.1.3 in c:\\users\\pc\\appdata\\local\\programs\\python\\python311\\lib\\site-packages (from -r requirements.txt (line 36)) (2.1.3)\n",
      "Requirement already satisfied: matplotlib==3.8.1 in c:\\users\\pc\\appdata\\local\\programs\\python\\python311\\lib\\site-packages (from -r requirements.txt (line 37)) (3.8.1)\n",
      "Requirement already satisfied: matplotlib-inline==0.1.6 in c:\\users\\pc\\appdata\\roaming\\python\\python311\\site-packages (from -r requirements.txt (line 38)) (0.1.6)\n",
      "Requirement already satisfied: mpmath==1.3.0 in c:\\users\\pc\\appdata\\local\\programs\\python\\python311\\lib\\site-packages (from -r requirements.txt (line 39)) (1.3.0)\n",
      "Requirement already satisfied: nest-asyncio==1.5.8 in c:\\users\\pc\\appdata\\roaming\\python\\python311\\site-packages (from -r requirements.txt (line 40)) (1.5.8)\n",
      "Requirement already satisfied: networkx==3.2 in c:\\users\\pc\\appdata\\local\\programs\\python\\python311\\lib\\site-packages (from -r requirements.txt (line 41)) (3.2)\n",
      "Requirement already satisfied: numpy==1.26.1 in c:\\users\\pc\\appdata\\local\\programs\\python\\python311\\lib\\site-packages (from -r requirements.txt (line 42)) (1.26.1)\n",
      "Requirement already satisfied: opencv-python==4.8.1.78 in c:\\users\\pc\\appdata\\local\\programs\\python\\python311\\lib\\site-packages (from -r requirements.txt (line 43)) (4.8.1.78)\n",
      "Requirement already satisfied: openpyxl==3.1.2 in c:\\users\\pc\\appdata\\local\\programs\\python\\python311\\lib\\site-packages (from -r requirements.txt (line 44)) (3.1.2)\n",
      "Requirement already satisfied: packaging==23.1 in c:\\users\\pc\\appdata\\roaming\\python\\python311\\site-packages (from -r requirements.txt (line 45)) (23.1)\n",
      "Requirement already satisfied: pandas==2.1.3 in c:\\users\\pc\\appdata\\local\\programs\\python\\python311\\lib\\site-packages (from -r requirements.txt (line 46)) (2.1.3)\n",
      "Requirement already satisfied: parso==0.8.3 in c:\\users\\pc\\appdata\\roaming\\python\\python311\\site-packages (from -r requirements.txt (line 47)) (0.8.3)\n",
      "Requirement already satisfied: pickleshare==0.7.5 in c:\\users\\pc\\appdata\\roaming\\python\\python311\\site-packages (from -r requirements.txt (line 48)) (0.7.5)\n",
      "Requirement already satisfied: Pillow==10.0.1 in c:\\users\\pc\\appdata\\local\\programs\\python\\python311\\lib\\site-packages (from -r requirements.txt (line 49)) (10.0.1)\n",
      "Requirement already satisfied: platformdirs==3.10.0 in c:\\users\\pc\\appdata\\roaming\\python\\python311\\site-packages (from -r requirements.txt (line 50)) (3.10.0)\n",
      "Requirement already satisfied: prompt-toolkit==3.0.39 in c:\\users\\pc\\appdata\\roaming\\python\\python311\\site-packages (from -r requirements.txt (line 51)) (3.0.39)\n",
      "Requirement already satisfied: psutil==5.9.5 in c:\\users\\pc\\appdata\\roaming\\python\\python311\\site-packages (from -r requirements.txt (line 52)) (5.9.5)\n",
      "Requirement already satisfied: psycopg2==2.9.9 in c:\\users\\pc\\appdata\\local\\programs\\python\\python311\\lib\\site-packages (from -r requirements.txt (line 53)) (2.9.9)\n",
      "Requirement already satisfied: pure-eval==0.2.2 in c:\\users\\pc\\appdata\\roaming\\python\\python311\\site-packages (from -r requirements.txt (line 54)) (0.2.2)\n",
      "Requirement already satisfied: py-cpuinfo==9.0.0 in c:\\users\\pc\\appdata\\local\\programs\\python\\python311\\lib\\site-packages (from -r requirements.txt (line 55)) (9.0.0)\n",
      "Requirement already satisfied: Pygments==2.16.1 in c:\\users\\pc\\appdata\\roaming\\python\\python311\\site-packages (from -r requirements.txt (line 56)) (2.16.1)\n",
      "Requirement already satisfied: pyparsing==3.1.1 in c:\\users\\pc\\appdata\\local\\programs\\python\\python311\\lib\\site-packages (from -r requirements.txt (line 57)) (3.1.1)\n",
      "Requirement already satisfied: pypiwin32==223 in c:\\users\\pc\\appdata\\local\\programs\\python\\python311\\lib\\site-packages (from -r requirements.txt (line 58)) (223)\n",
      "Requirement already satisfied: PySocks==1.7.1 in c:\\users\\pc\\appdata\\local\\programs\\python\\python311\\lib\\site-packages (from -r requirements.txt (line 59)) (1.7.1)\n",
      "Requirement already satisfied: python-dateutil==2.8.2 in c:\\users\\pc\\appdata\\roaming\\python\\python311\\site-packages (from -r requirements.txt (line 60)) (2.8.2)\n",
      "Requirement already satisfied: pytz==2023.3.post1 in c:\\users\\pc\\appdata\\local\\programs\\python\\python311\\lib\\site-packages (from -r requirements.txt (line 61)) (2023.3.post1)\n",
      "Requirement already satisfied: pywin32==306 in c:\\users\\pc\\appdata\\roaming\\python\\python311\\site-packages (from -r requirements.txt (line 62)) (306)\n",
      "Requirement already satisfied: PyYAML==6.0.1 in c:\\users\\pc\\appdata\\local\\programs\\python\\python311\\lib\\site-packages (from -r requirements.txt (line 63)) (6.0.1)\n",
      "Requirement already satisfied: pyzmq==25.1.1 in c:\\users\\pc\\appdata\\roaming\\python\\python311\\site-packages (from -r requirements.txt (line 64)) (25.1.1)\n",
      "Requirement already satisfied: requests==2.31.0 in c:\\users\\pc\\appdata\\local\\programs\\python\\python311\\lib\\site-packages (from -r requirements.txt (line 65)) (2.31.0)\n",
      "Requirement already satisfied: ruamel.yaml==0.18.2 in c:\\users\\pc\\appdata\\local\\programs\\python\\python311\\lib\\site-packages (from -r requirements.txt (line 66)) (0.18.2)\n",
      "Requirement already satisfied: ruamel.yaml.clib==0.2.8 in c:\\users\\pc\\appdata\\local\\programs\\python\\python311\\lib\\site-packages (from -r requirements.txt (line 67)) (0.2.8)\n",
      "Requirement already satisfied: scikit-image==0.22.0 in c:\\users\\pc\\appdata\\local\\programs\\python\\python311\\lib\\site-packages (from -r requirements.txt (line 68)) (0.22.0)\n",
      "Requirement already satisfied: scikit-learn==1.3.2 in c:\\users\\pc\\appdata\\local\\programs\\python\\python311\\lib\\site-packages (from -r requirements.txt (line 69)) (1.3.2)\n",
      "Requirement already satisfied: scipy==1.11.3 in c:\\users\\pc\\appdata\\local\\programs\\python\\python311\\lib\\site-packages (from -r requirements.txt (line 70)) (1.11.3)\n",
      "Requirement already satisfied: seaborn==0.13.0 in c:\\users\\pc\\appdata\\local\\programs\\python\\python311\\lib\\site-packages (from -r requirements.txt (line 71)) (0.13.0)\n",
      "Requirement already satisfied: six==1.16.0 in c:\\users\\pc\\appdata\\roaming\\python\\python311\\site-packages (from -r requirements.txt (line 72)) (1.16.0)\n",
      "Requirement already satisfied: soupsieve==2.5 in c:\\users\\pc\\appdata\\local\\programs\\python\\python311\\lib\\site-packages (from -r requirements.txt (line 73)) (2.5)\n",
      "Requirement already satisfied: stack-data==0.6.2 in c:\\users\\pc\\appdata\\roaming\\python\\python311\\site-packages (from -r requirements.txt (line 74)) (0.6.2)\n",
      "Requirement already satisfied: sympy==1.12 in c:\\users\\pc\\appdata\\local\\programs\\python\\python311\\lib\\site-packages (from -r requirements.txt (line 75)) (1.12)\n",
      "Requirement already satisfied: thop==0.1.1.post2209072238 in c:\\users\\pc\\appdata\\local\\programs\\python\\python311\\lib\\site-packages (from -r requirements.txt (line 76)) (0.1.1.post2209072238)\n",
      "Requirement already satisfied: threadpoolctl==3.2.0 in c:\\users\\pc\\appdata\\local\\programs\\python\\python311\\lib\\site-packages (from -r requirements.txt (line 77)) (3.2.0)\n",
      "Requirement already satisfied: tifffile==2023.9.26 in c:\\users\\pc\\appdata\\local\\programs\\python\\python311\\lib\\site-packages (from -r requirements.txt (line 78)) (2023.9.26)\n",
      "Requirement already satisfied: torch==2.1.0 in c:\\users\\pc\\appdata\\local\\programs\\python\\python311\\lib\\site-packages (from -r requirements.txt (line 79)) (2.1.0)\n",
      "Requirement already satisfied: torchvision==0.16.0 in c:\\users\\pc\\appdata\\local\\programs\\python\\python311\\lib\\site-packages (from -r requirements.txt (line 80)) (0.16.0)\n",
      "Requirement already satisfied: tornado==6.3.3 in c:\\users\\pc\\appdata\\roaming\\python\\python311\\site-packages (from -r requirements.txt (line 81)) (6.3.3)\n",
      "Requirement already satisfied: tqdm==4.66.1 in c:\\users\\pc\\appdata\\local\\programs\\python\\python311\\lib\\site-packages (from -r requirements.txt (line 82)) (4.66.1)\n",
      "Requirement already satisfied: traitlets==5.10.0 in c:\\users\\pc\\appdata\\roaming\\python\\python311\\site-packages (from -r requirements.txt (line 83)) (5.10.0)\n",
      "Requirement already satisfied: typing_extensions==4.8.0 in c:\\users\\pc\\appdata\\local\\programs\\python\\python311\\lib\\site-packages (from -r requirements.txt (line 84)) (4.8.0)\n",
      "Requirement already satisfied: tzdata==2023.3 in c:\\users\\pc\\appdata\\local\\programs\\python\\python311\\lib\\site-packages (from -r requirements.txt (line 85)) (2023.3)\n",
      "Requirement already satisfied: ultralytics==8.0.202 in c:\\users\\pc\\appdata\\local\\programs\\python\\python311\\lib\\site-packages (from -r requirements.txt (line 86)) (8.0.202)\n",
      "Requirement already satisfied: urllib3==2.0.5 in c:\\users\\pc\\appdata\\local\\programs\\python\\python311\\lib\\site-packages (from -r requirements.txt (line 87)) (2.0.5)\n",
      "Requirement already satisfied: wcwidth==0.2.6 in c:\\users\\pc\\appdata\\roaming\\python\\python311\\site-packages (from -r requirements.txt (line 88)) (0.2.6)\n"
     ]
    },
    {
     "name": "stderr",
     "output_type": "stream",
     "text": [
      "\n",
      "[notice] A new release of pip is available: 23.3.1 -> 23.3.2\n",
      "[notice] To update, run: python.exe -m pip install --upgrade pip\n"
     ]
    }
   ],
   "source": [
    "!pip install -r requirements.txt"
   ]
  },
  {
   "cell_type": "markdown",
   "metadata": {},
   "source": [
    "# Importação das Bibliotecas"
   ]
  },
  {
   "cell_type": "code",
   "execution_count": 5,
   "metadata": {},
   "outputs": [],
   "source": [
    "import pandas as pd\n",
    "import numpy as np\n",
    "import matplotlib.pyplot as plt\n",
    "from os.path import join"
   ]
  },
  {
   "cell_type": "code",
   "execution_count": 6,
   "metadata": {},
   "outputs": [],
   "source": [
    "root = \"datasets\"\n",
    "file = join(root,'steam.csv')\n",
    "df = pd.read_csv(file)"
   ]
  },
  {
   "cell_type": "markdown",
   "metadata": {},
   "source": [
    "## Inspecionando os dados e preparando os dados"
   ]
  },
  {
   "cell_type": "code",
   "execution_count": 7,
   "metadata": {},
   "outputs": [
    {
     "data": {
      "text/html": [
       "<div>\n",
       "<style scoped>\n",
       "    .dataframe tbody tr th:only-of-type {\n",
       "        vertical-align: middle;\n",
       "    }\n",
       "\n",
       "    .dataframe tbody tr th {\n",
       "        vertical-align: top;\n",
       "    }\n",
       "\n",
       "    .dataframe thead th {\n",
       "        text-align: right;\n",
       "    }\n",
       "</style>\n",
       "<table border=\"1\" class=\"dataframe\">\n",
       "  <thead>\n",
       "    <tr style=\"text-align: right;\">\n",
       "      <th></th>\n",
       "      <th>appid</th>\n",
       "      <th>name</th>\n",
       "      <th>release_date</th>\n",
       "      <th>english</th>\n",
       "      <th>developer</th>\n",
       "      <th>publisher</th>\n",
       "      <th>platforms</th>\n",
       "      <th>required_age</th>\n",
       "      <th>categories</th>\n",
       "      <th>genres</th>\n",
       "      <th>steamspy_tags</th>\n",
       "      <th>achievements</th>\n",
       "      <th>positive_ratings</th>\n",
       "      <th>negative_ratings</th>\n",
       "      <th>average_playtime</th>\n",
       "      <th>median_playtime</th>\n",
       "      <th>owners</th>\n",
       "      <th>price</th>\n",
       "    </tr>\n",
       "  </thead>\n",
       "  <tbody>\n",
       "    <tr>\n",
       "      <th>0</th>\n",
       "      <td>10</td>\n",
       "      <td>Counter-Strike</td>\n",
       "      <td>2000-11-01</td>\n",
       "      <td>1</td>\n",
       "      <td>Valve</td>\n",
       "      <td>Valve</td>\n",
       "      <td>windows;mac;linux</td>\n",
       "      <td>0</td>\n",
       "      <td>Multi-player;Online Multi-Player;Local Multi-P...</td>\n",
       "      <td>Action</td>\n",
       "      <td>Action;FPS;Multiplayer</td>\n",
       "      <td>0</td>\n",
       "      <td>124534</td>\n",
       "      <td>3339</td>\n",
       "      <td>17612</td>\n",
       "      <td>317</td>\n",
       "      <td>10000000-20000000</td>\n",
       "      <td>7.19</td>\n",
       "    </tr>\n",
       "    <tr>\n",
       "      <th>1</th>\n",
       "      <td>20</td>\n",
       "      <td>Team Fortress Classic</td>\n",
       "      <td>1999-04-01</td>\n",
       "      <td>1</td>\n",
       "      <td>Valve</td>\n",
       "      <td>Valve</td>\n",
       "      <td>windows;mac;linux</td>\n",
       "      <td>0</td>\n",
       "      <td>Multi-player;Online Multi-Player;Local Multi-P...</td>\n",
       "      <td>Action</td>\n",
       "      <td>Action;FPS;Multiplayer</td>\n",
       "      <td>0</td>\n",
       "      <td>3318</td>\n",
       "      <td>633</td>\n",
       "      <td>277</td>\n",
       "      <td>62</td>\n",
       "      <td>5000000-10000000</td>\n",
       "      <td>3.99</td>\n",
       "    </tr>\n",
       "    <tr>\n",
       "      <th>2</th>\n",
       "      <td>30</td>\n",
       "      <td>Day of Defeat</td>\n",
       "      <td>2003-05-01</td>\n",
       "      <td>1</td>\n",
       "      <td>Valve</td>\n",
       "      <td>Valve</td>\n",
       "      <td>windows;mac;linux</td>\n",
       "      <td>0</td>\n",
       "      <td>Multi-player;Valve Anti-Cheat enabled</td>\n",
       "      <td>Action</td>\n",
       "      <td>FPS;World War II;Multiplayer</td>\n",
       "      <td>0</td>\n",
       "      <td>3416</td>\n",
       "      <td>398</td>\n",
       "      <td>187</td>\n",
       "      <td>34</td>\n",
       "      <td>5000000-10000000</td>\n",
       "      <td>3.99</td>\n",
       "    </tr>\n",
       "    <tr>\n",
       "      <th>3</th>\n",
       "      <td>40</td>\n",
       "      <td>Deathmatch Classic</td>\n",
       "      <td>2001-06-01</td>\n",
       "      <td>1</td>\n",
       "      <td>Valve</td>\n",
       "      <td>Valve</td>\n",
       "      <td>windows;mac;linux</td>\n",
       "      <td>0</td>\n",
       "      <td>Multi-player;Online Multi-Player;Local Multi-P...</td>\n",
       "      <td>Action</td>\n",
       "      <td>Action;FPS;Multiplayer</td>\n",
       "      <td>0</td>\n",
       "      <td>1273</td>\n",
       "      <td>267</td>\n",
       "      <td>258</td>\n",
       "      <td>184</td>\n",
       "      <td>5000000-10000000</td>\n",
       "      <td>3.99</td>\n",
       "    </tr>\n",
       "    <tr>\n",
       "      <th>4</th>\n",
       "      <td>50</td>\n",
       "      <td>Half-Life: Opposing Force</td>\n",
       "      <td>1999-11-01</td>\n",
       "      <td>1</td>\n",
       "      <td>Gearbox Software</td>\n",
       "      <td>Valve</td>\n",
       "      <td>windows;mac;linux</td>\n",
       "      <td>0</td>\n",
       "      <td>Single-player;Multi-player;Valve Anti-Cheat en...</td>\n",
       "      <td>Action</td>\n",
       "      <td>FPS;Action;Sci-fi</td>\n",
       "      <td>0</td>\n",
       "      <td>5250</td>\n",
       "      <td>288</td>\n",
       "      <td>624</td>\n",
       "      <td>415</td>\n",
       "      <td>5000000-10000000</td>\n",
       "      <td>3.99</td>\n",
       "    </tr>\n",
       "  </tbody>\n",
       "</table>\n",
       "</div>"
      ],
      "text/plain": [
       "   appid                       name release_date  english         developer  \\\n",
       "0     10             Counter-Strike   2000-11-01        1             Valve   \n",
       "1     20      Team Fortress Classic   1999-04-01        1             Valve   \n",
       "2     30              Day of Defeat   2003-05-01        1             Valve   \n",
       "3     40         Deathmatch Classic   2001-06-01        1             Valve   \n",
       "4     50  Half-Life: Opposing Force   1999-11-01        1  Gearbox Software   \n",
       "\n",
       "  publisher          platforms  required_age  \\\n",
       "0     Valve  windows;mac;linux             0   \n",
       "1     Valve  windows;mac;linux             0   \n",
       "2     Valve  windows;mac;linux             0   \n",
       "3     Valve  windows;mac;linux             0   \n",
       "4     Valve  windows;mac;linux             0   \n",
       "\n",
       "                                          categories  genres  \\\n",
       "0  Multi-player;Online Multi-Player;Local Multi-P...  Action   \n",
       "1  Multi-player;Online Multi-Player;Local Multi-P...  Action   \n",
       "2              Multi-player;Valve Anti-Cheat enabled  Action   \n",
       "3  Multi-player;Online Multi-Player;Local Multi-P...  Action   \n",
       "4  Single-player;Multi-player;Valve Anti-Cheat en...  Action   \n",
       "\n",
       "                  steamspy_tags  achievements  positive_ratings  \\\n",
       "0        Action;FPS;Multiplayer             0            124534   \n",
       "1        Action;FPS;Multiplayer             0              3318   \n",
       "2  FPS;World War II;Multiplayer             0              3416   \n",
       "3        Action;FPS;Multiplayer             0              1273   \n",
       "4             FPS;Action;Sci-fi             0              5250   \n",
       "\n",
       "   negative_ratings  average_playtime  median_playtime             owners  \\\n",
       "0              3339             17612              317  10000000-20000000   \n",
       "1               633               277               62   5000000-10000000   \n",
       "2               398               187               34   5000000-10000000   \n",
       "3               267               258              184   5000000-10000000   \n",
       "4               288               624              415   5000000-10000000   \n",
       "\n",
       "   price  \n",
       "0   7.19  \n",
       "1   3.99  \n",
       "2   3.99  \n",
       "3   3.99  \n",
       "4   3.99  "
      ]
     },
     "execution_count": 7,
     "metadata": {},
     "output_type": "execute_result"
    }
   ],
   "source": [
    "df.head()"
   ]
  },
  {
   "cell_type": "code",
   "execution_count": 8,
   "metadata": {},
   "outputs": [
    {
     "data": {
      "text/html": [
       "<div>\n",
       "<style scoped>\n",
       "    .dataframe tbody tr th:only-of-type {\n",
       "        vertical-align: middle;\n",
       "    }\n",
       "\n",
       "    .dataframe tbody tr th {\n",
       "        vertical-align: top;\n",
       "    }\n",
       "\n",
       "    .dataframe thead th {\n",
       "        text-align: right;\n",
       "    }\n",
       "</style>\n",
       "<table border=\"1\" class=\"dataframe\">\n",
       "  <thead>\n",
       "    <tr style=\"text-align: right;\">\n",
       "      <th></th>\n",
       "      <th>appid</th>\n",
       "      <th>name</th>\n",
       "      <th>release_date</th>\n",
       "      <th>english</th>\n",
       "      <th>developer</th>\n",
       "      <th>publisher</th>\n",
       "      <th>platforms</th>\n",
       "      <th>required_age</th>\n",
       "      <th>categories</th>\n",
       "      <th>genres</th>\n",
       "      <th>steamspy_tags</th>\n",
       "      <th>achievements</th>\n",
       "      <th>positive_ratings</th>\n",
       "      <th>negative_ratings</th>\n",
       "      <th>average_playtime</th>\n",
       "      <th>median_playtime</th>\n",
       "      <th>owners</th>\n",
       "      <th>price</th>\n",
       "    </tr>\n",
       "  </thead>\n",
       "  <tbody>\n",
       "    <tr>\n",
       "      <th>27070</th>\n",
       "      <td>1065230</td>\n",
       "      <td>Room of Pandora</td>\n",
       "      <td>2019-04-24</td>\n",
       "      <td>1</td>\n",
       "      <td>SHEN JIAWEI</td>\n",
       "      <td>SHEN JIAWEI</td>\n",
       "      <td>windows</td>\n",
       "      <td>0</td>\n",
       "      <td>Single-player;Steam Achievements</td>\n",
       "      <td>Adventure;Casual;Indie</td>\n",
       "      <td>Adventure;Indie;Casual</td>\n",
       "      <td>7</td>\n",
       "      <td>3</td>\n",
       "      <td>0</td>\n",
       "      <td>0</td>\n",
       "      <td>0</td>\n",
       "      <td>0-20000</td>\n",
       "      <td>2.09</td>\n",
       "    </tr>\n",
       "    <tr>\n",
       "      <th>27071</th>\n",
       "      <td>1065570</td>\n",
       "      <td>Cyber Gun</td>\n",
       "      <td>2019-04-23</td>\n",
       "      <td>1</td>\n",
       "      <td>Semyon Maximov</td>\n",
       "      <td>BekkerDev Studio</td>\n",
       "      <td>windows</td>\n",
       "      <td>0</td>\n",
       "      <td>Single-player</td>\n",
       "      <td>Action;Adventure;Indie</td>\n",
       "      <td>Action;Indie;Adventure</td>\n",
       "      <td>0</td>\n",
       "      <td>8</td>\n",
       "      <td>1</td>\n",
       "      <td>0</td>\n",
       "      <td>0</td>\n",
       "      <td>0-20000</td>\n",
       "      <td>1.69</td>\n",
       "    </tr>\n",
       "    <tr>\n",
       "      <th>27072</th>\n",
       "      <td>1065650</td>\n",
       "      <td>Super Star Blast</td>\n",
       "      <td>2019-04-24</td>\n",
       "      <td>1</td>\n",
       "      <td>EntwicklerX</td>\n",
       "      <td>EntwicklerX</td>\n",
       "      <td>windows</td>\n",
       "      <td>0</td>\n",
       "      <td>Single-player;Multi-player;Co-op;Shared/Split ...</td>\n",
       "      <td>Action;Casual;Indie</td>\n",
       "      <td>Action;Indie;Casual</td>\n",
       "      <td>24</td>\n",
       "      <td>0</td>\n",
       "      <td>1</td>\n",
       "      <td>0</td>\n",
       "      <td>0</td>\n",
       "      <td>0-20000</td>\n",
       "      <td>3.99</td>\n",
       "    </tr>\n",
       "    <tr>\n",
       "      <th>27073</th>\n",
       "      <td>1066700</td>\n",
       "      <td>New Yankee 7: Deer Hunters</td>\n",
       "      <td>2019-04-17</td>\n",
       "      <td>1</td>\n",
       "      <td>Yustas Game Studio</td>\n",
       "      <td>Alawar Entertainment</td>\n",
       "      <td>windows;mac</td>\n",
       "      <td>0</td>\n",
       "      <td>Single-player;Steam Cloud</td>\n",
       "      <td>Adventure;Casual;Indie</td>\n",
       "      <td>Indie;Casual;Adventure</td>\n",
       "      <td>0</td>\n",
       "      <td>2</td>\n",
       "      <td>0</td>\n",
       "      <td>0</td>\n",
       "      <td>0</td>\n",
       "      <td>0-20000</td>\n",
       "      <td>5.19</td>\n",
       "    </tr>\n",
       "    <tr>\n",
       "      <th>27074</th>\n",
       "      <td>1069460</td>\n",
       "      <td>Rune Lord</td>\n",
       "      <td>2019-04-24</td>\n",
       "      <td>1</td>\n",
       "      <td>Adept Studios GD</td>\n",
       "      <td>Alawar Entertainment</td>\n",
       "      <td>windows;mac</td>\n",
       "      <td>0</td>\n",
       "      <td>Single-player;Steam Cloud</td>\n",
       "      <td>Adventure;Casual;Indie</td>\n",
       "      <td>Indie;Casual;Adventure</td>\n",
       "      <td>0</td>\n",
       "      <td>4</td>\n",
       "      <td>0</td>\n",
       "      <td>0</td>\n",
       "      <td>0</td>\n",
       "      <td>0-20000</td>\n",
       "      <td>5.19</td>\n",
       "    </tr>\n",
       "  </tbody>\n",
       "</table>\n",
       "</div>"
      ],
      "text/plain": [
       "         appid                        name release_date  english  \\\n",
       "27070  1065230             Room of Pandora   2019-04-24        1   \n",
       "27071  1065570                   Cyber Gun   2019-04-23        1   \n",
       "27072  1065650            Super Star Blast   2019-04-24        1   \n",
       "27073  1066700  New Yankee 7: Deer Hunters   2019-04-17        1   \n",
       "27074  1069460                   Rune Lord   2019-04-24        1   \n",
       "\n",
       "                developer             publisher    platforms  required_age  \\\n",
       "27070         SHEN JIAWEI           SHEN JIAWEI      windows             0   \n",
       "27071      Semyon Maximov      BekkerDev Studio      windows             0   \n",
       "27072         EntwicklerX           EntwicklerX      windows             0   \n",
       "27073  Yustas Game Studio  Alawar Entertainment  windows;mac             0   \n",
       "27074    Adept Studios GD  Alawar Entertainment  windows;mac             0   \n",
       "\n",
       "                                              categories  \\\n",
       "27070                   Single-player;Steam Achievements   \n",
       "27071                                      Single-player   \n",
       "27072  Single-player;Multi-player;Co-op;Shared/Split ...   \n",
       "27073                          Single-player;Steam Cloud   \n",
       "27074                          Single-player;Steam Cloud   \n",
       "\n",
       "                       genres           steamspy_tags  achievements  \\\n",
       "27070  Adventure;Casual;Indie  Adventure;Indie;Casual             7   \n",
       "27071  Action;Adventure;Indie  Action;Indie;Adventure             0   \n",
       "27072     Action;Casual;Indie     Action;Indie;Casual            24   \n",
       "27073  Adventure;Casual;Indie  Indie;Casual;Adventure             0   \n",
       "27074  Adventure;Casual;Indie  Indie;Casual;Adventure             0   \n",
       "\n",
       "       positive_ratings  negative_ratings  average_playtime  median_playtime  \\\n",
       "27070                 3                 0                 0                0   \n",
       "27071                 8                 1                 0                0   \n",
       "27072                 0                 1                 0                0   \n",
       "27073                 2                 0                 0                0   \n",
       "27074                 4                 0                 0                0   \n",
       "\n",
       "        owners  price  \n",
       "27070  0-20000   2.09  \n",
       "27071  0-20000   1.69  \n",
       "27072  0-20000   3.99  \n",
       "27073  0-20000   5.19  \n",
       "27074  0-20000   5.19  "
      ]
     },
     "execution_count": 8,
     "metadata": {},
     "output_type": "execute_result"
    }
   ],
   "source": [
    "df.tail()"
   ]
  },
  {
   "cell_type": "code",
   "execution_count": 9,
   "metadata": {},
   "outputs": [
    {
     "data": {
      "text/html": [
       "<div>\n",
       "<style scoped>\n",
       "    .dataframe tbody tr th:only-of-type {\n",
       "        vertical-align: middle;\n",
       "    }\n",
       "\n",
       "    .dataframe tbody tr th {\n",
       "        vertical-align: top;\n",
       "    }\n",
       "\n",
       "    .dataframe thead th {\n",
       "        text-align: right;\n",
       "    }\n",
       "</style>\n",
       "<table border=\"1\" class=\"dataframe\">\n",
       "  <thead>\n",
       "    <tr style=\"text-align: right;\">\n",
       "      <th></th>\n",
       "      <th>appid</th>\n",
       "      <th>english</th>\n",
       "      <th>required_age</th>\n",
       "      <th>achievements</th>\n",
       "      <th>positive_ratings</th>\n",
       "      <th>negative_ratings</th>\n",
       "      <th>average_playtime</th>\n",
       "      <th>median_playtime</th>\n",
       "      <th>price</th>\n",
       "    </tr>\n",
       "  </thead>\n",
       "  <tbody>\n",
       "    <tr>\n",
       "      <th>count</th>\n",
       "      <td>2.707500e+04</td>\n",
       "      <td>27075.000000</td>\n",
       "      <td>27075.000000</td>\n",
       "      <td>27075.000000</td>\n",
       "      <td>2.707500e+04</td>\n",
       "      <td>27075.000000</td>\n",
       "      <td>27075.000000</td>\n",
       "      <td>27075.00000</td>\n",
       "      <td>27075.000000</td>\n",
       "    </tr>\n",
       "    <tr>\n",
       "      <th>mean</th>\n",
       "      <td>5.962035e+05</td>\n",
       "      <td>0.981127</td>\n",
       "      <td>0.354903</td>\n",
       "      <td>45.248864</td>\n",
       "      <td>1.000559e+03</td>\n",
       "      <td>211.027147</td>\n",
       "      <td>149.804949</td>\n",
       "      <td>146.05603</td>\n",
       "      <td>6.078193</td>\n",
       "    </tr>\n",
       "    <tr>\n",
       "      <th>std</th>\n",
       "      <td>2.508942e+05</td>\n",
       "      <td>0.136081</td>\n",
       "      <td>2.406044</td>\n",
       "      <td>352.670281</td>\n",
       "      <td>1.898872e+04</td>\n",
       "      <td>4284.938531</td>\n",
       "      <td>1827.038141</td>\n",
       "      <td>2353.88008</td>\n",
       "      <td>7.874922</td>\n",
       "    </tr>\n",
       "    <tr>\n",
       "      <th>min</th>\n",
       "      <td>1.000000e+01</td>\n",
       "      <td>0.000000</td>\n",
       "      <td>0.000000</td>\n",
       "      <td>0.000000</td>\n",
       "      <td>0.000000e+00</td>\n",
       "      <td>0.000000</td>\n",
       "      <td>0.000000</td>\n",
       "      <td>0.00000</td>\n",
       "      <td>0.000000</td>\n",
       "    </tr>\n",
       "    <tr>\n",
       "      <th>25%</th>\n",
       "      <td>4.012300e+05</td>\n",
       "      <td>1.000000</td>\n",
       "      <td>0.000000</td>\n",
       "      <td>0.000000</td>\n",
       "      <td>6.000000e+00</td>\n",
       "      <td>2.000000</td>\n",
       "      <td>0.000000</td>\n",
       "      <td>0.00000</td>\n",
       "      <td>1.690000</td>\n",
       "    </tr>\n",
       "    <tr>\n",
       "      <th>50%</th>\n",
       "      <td>5.990700e+05</td>\n",
       "      <td>1.000000</td>\n",
       "      <td>0.000000</td>\n",
       "      <td>7.000000</td>\n",
       "      <td>2.400000e+01</td>\n",
       "      <td>9.000000</td>\n",
       "      <td>0.000000</td>\n",
       "      <td>0.00000</td>\n",
       "      <td>3.990000</td>\n",
       "    </tr>\n",
       "    <tr>\n",
       "      <th>75%</th>\n",
       "      <td>7.987600e+05</td>\n",
       "      <td>1.000000</td>\n",
       "      <td>0.000000</td>\n",
       "      <td>23.000000</td>\n",
       "      <td>1.260000e+02</td>\n",
       "      <td>42.000000</td>\n",
       "      <td>0.000000</td>\n",
       "      <td>0.00000</td>\n",
       "      <td>7.190000</td>\n",
       "    </tr>\n",
       "    <tr>\n",
       "      <th>max</th>\n",
       "      <td>1.069460e+06</td>\n",
       "      <td>1.000000</td>\n",
       "      <td>18.000000</td>\n",
       "      <td>9821.000000</td>\n",
       "      <td>2.644404e+06</td>\n",
       "      <td>487076.000000</td>\n",
       "      <td>190625.000000</td>\n",
       "      <td>190625.00000</td>\n",
       "      <td>421.990000</td>\n",
       "    </tr>\n",
       "  </tbody>\n",
       "</table>\n",
       "</div>"
      ],
      "text/plain": [
       "              appid       english  required_age  achievements  \\\n",
       "count  2.707500e+04  27075.000000  27075.000000  27075.000000   \n",
       "mean   5.962035e+05      0.981127      0.354903     45.248864   \n",
       "std    2.508942e+05      0.136081      2.406044    352.670281   \n",
       "min    1.000000e+01      0.000000      0.000000      0.000000   \n",
       "25%    4.012300e+05      1.000000      0.000000      0.000000   \n",
       "50%    5.990700e+05      1.000000      0.000000      7.000000   \n",
       "75%    7.987600e+05      1.000000      0.000000     23.000000   \n",
       "max    1.069460e+06      1.000000     18.000000   9821.000000   \n",
       "\n",
       "       positive_ratings  negative_ratings  average_playtime  median_playtime  \\\n",
       "count      2.707500e+04      27075.000000      27075.000000      27075.00000   \n",
       "mean       1.000559e+03        211.027147        149.804949        146.05603   \n",
       "std        1.898872e+04       4284.938531       1827.038141       2353.88008   \n",
       "min        0.000000e+00          0.000000          0.000000          0.00000   \n",
       "25%        6.000000e+00          2.000000          0.000000          0.00000   \n",
       "50%        2.400000e+01          9.000000          0.000000          0.00000   \n",
       "75%        1.260000e+02         42.000000          0.000000          0.00000   \n",
       "max        2.644404e+06     487076.000000     190625.000000     190625.00000   \n",
       "\n",
       "              price  \n",
       "count  27075.000000  \n",
       "mean       6.078193  \n",
       "std        7.874922  \n",
       "min        0.000000  \n",
       "25%        1.690000  \n",
       "50%        3.990000  \n",
       "75%        7.190000  \n",
       "max      421.990000  "
      ]
     },
     "execution_count": 9,
     "metadata": {},
     "output_type": "execute_result"
    }
   ],
   "source": [
    "df.describe()"
   ]
  },
  {
   "cell_type": "code",
   "execution_count": 10,
   "metadata": {},
   "outputs": [
    {
     "name": "stdout",
     "output_type": "stream",
     "text": [
      "<class 'pandas.core.frame.DataFrame'>\n",
      "RangeIndex: 27075 entries, 0 to 27074\n",
      "Data columns (total 18 columns):\n",
      " #   Column            Non-Null Count  Dtype  \n",
      "---  ------            --------------  -----  \n",
      " 0   appid             27075 non-null  int64  \n",
      " 1   name              27075 non-null  object \n",
      " 2   release_date      27075 non-null  object \n",
      " 3   english           27075 non-null  int64  \n",
      " 4   developer         27074 non-null  object \n",
      " 5   publisher         27061 non-null  object \n",
      " 6   platforms         27075 non-null  object \n",
      " 7   required_age      27075 non-null  int64  \n",
      " 8   categories        27075 non-null  object \n",
      " 9   genres            27075 non-null  object \n",
      " 10  steamspy_tags     27075 non-null  object \n",
      " 11  achievements      27075 non-null  int64  \n",
      " 12  positive_ratings  27075 non-null  int64  \n",
      " 13  negative_ratings  27075 non-null  int64  \n",
      " 14  average_playtime  27075 non-null  int64  \n",
      " 15  median_playtime   27075 non-null  int64  \n",
      " 16  owners            27075 non-null  object \n",
      " 17  price             27075 non-null  float64\n",
      "dtypes: float64(1), int64(8), object(9)\n",
      "memory usage: 3.7+ MB\n"
     ]
    }
   ],
   "source": [
    "df.info()"
   ]
  },
  {
   "cell_type": "code",
   "execution_count": 11,
   "metadata": {},
   "outputs": [
    {
     "data": {
      "text/plain": [
       "Index(['appid', 'name', 'release_date', 'english', 'developer', 'publisher',\n",
       "       'platforms', 'required_age', 'categories', 'genres', 'steamspy_tags',\n",
       "       'achievements', 'positive_ratings', 'negative_ratings',\n",
       "       'average_playtime', 'median_playtime', 'owners', 'price'],\n",
       "      dtype='object')"
      ]
     },
     "execution_count": 11,
     "metadata": {},
     "output_type": "execute_result"
    }
   ],
   "source": [
    "df.columns"
   ]
  },
  {
   "cell_type": "markdown",
   "metadata": {},
   "source": [
    "# Checando valores nulos"
   ]
  },
  {
   "cell_type": "code",
   "execution_count": 12,
   "metadata": {},
   "outputs": [
    {
     "data": {
      "text/plain": [
       "appid                0\n",
       "median_playtime      0\n",
       "average_playtime     0\n",
       "negative_ratings     0\n",
       "positive_ratings     0\n",
       "achievements         0\n",
       "steamspy_tags        0\n",
       "genres               0\n",
       "categories           0\n",
       "required_age         0\n",
       "platforms            0\n",
       "english              0\n",
       "release_date         0\n",
       "name                 0\n",
       "owners               0\n",
       "price                0\n",
       "developer            1\n",
       "publisher           14\n",
       "dtype: int64"
      ]
     },
     "execution_count": 12,
     "metadata": {},
     "output_type": "execute_result"
    }
   ],
   "source": [
    "df.isnull().sum().sort_values()"
   ]
  },
  {
   "cell_type": "markdown",
   "metadata": {},
   "source": [
    "# Encontrando o índice das linhas que contém valor nulo na coluna 'developer'"
   ]
  },
  {
   "cell_type": "code",
   "execution_count": 13,
   "metadata": {},
   "outputs": [
    {
     "data": {
      "text/plain": [
       "23071     True\n",
       "0        False\n",
       "18047    False\n",
       "18057    False\n",
       "18056    False\n",
       "         ...  \n",
       "9021     False\n",
       "9020     False\n",
       "9019     False\n",
       "9018     False\n",
       "27074    False\n",
       "Name: developer, Length: 27075, dtype: bool"
      ]
     },
     "execution_count": 13,
     "metadata": {},
     "output_type": "execute_result"
    }
   ],
   "source": [
    "df['developer'].isnull().sort_values(ascending=False)"
   ]
  },
  {
   "cell_type": "code",
   "execution_count": 14,
   "metadata": {},
   "outputs": [
    {
     "data": {
      "text/html": [
       "<div>\n",
       "<style scoped>\n",
       "    .dataframe tbody tr th:only-of-type {\n",
       "        vertical-align: middle;\n",
       "    }\n",
       "\n",
       "    .dataframe tbody tr th {\n",
       "        vertical-align: top;\n",
       "    }\n",
       "\n",
       "    .dataframe thead th {\n",
       "        text-align: right;\n",
       "    }\n",
       "</style>\n",
       "<table border=\"1\" class=\"dataframe\">\n",
       "  <thead>\n",
       "    <tr style=\"text-align: right;\">\n",
       "      <th></th>\n",
       "      <th>appid</th>\n",
       "      <th>name</th>\n",
       "      <th>release_date</th>\n",
       "      <th>english</th>\n",
       "      <th>developer</th>\n",
       "      <th>publisher</th>\n",
       "      <th>platforms</th>\n",
       "      <th>required_age</th>\n",
       "      <th>categories</th>\n",
       "      <th>genres</th>\n",
       "      <th>steamspy_tags</th>\n",
       "      <th>achievements</th>\n",
       "      <th>positive_ratings</th>\n",
       "      <th>negative_ratings</th>\n",
       "      <th>average_playtime</th>\n",
       "      <th>median_playtime</th>\n",
       "      <th>owners</th>\n",
       "      <th>price</th>\n",
       "    </tr>\n",
       "  </thead>\n",
       "  <tbody>\n",
       "    <tr>\n",
       "      <th>23071</th>\n",
       "      <td>881910</td>\n",
       "      <td>The Battle Of Ages</td>\n",
       "      <td>2018-09-07</td>\n",
       "      <td>1</td>\n",
       "      <td>NaN</td>\n",
       "      <td>NaN</td>\n",
       "      <td>windows</td>\n",
       "      <td>0</td>\n",
       "      <td>Multi-player;Online Multi-Player</td>\n",
       "      <td>Action;Indie;Massively Multiplayer;RPG;Early A...</td>\n",
       "      <td>Early Access;Action;Massively Multiplayer</td>\n",
       "      <td>0</td>\n",
       "      <td>2</td>\n",
       "      <td>1</td>\n",
       "      <td>0</td>\n",
       "      <td>0</td>\n",
       "      <td>0-20000</td>\n",
       "      <td>3.99</td>\n",
       "    </tr>\n",
       "  </tbody>\n",
       "</table>\n",
       "</div>"
      ],
      "text/plain": [
       "        appid                name release_date  english developer publisher  \\\n",
       "23071  881910  The Battle Of Ages   2018-09-07        1       NaN       NaN   \n",
       "\n",
       "      platforms  required_age                        categories  \\\n",
       "23071   windows             0  Multi-player;Online Multi-Player   \n",
       "\n",
       "                                                  genres  \\\n",
       "23071  Action;Indie;Massively Multiplayer;RPG;Early A...   \n",
       "\n",
       "                                   steamspy_tags  achievements  \\\n",
       "23071  Early Access;Action;Massively Multiplayer             0   \n",
       "\n",
       "       positive_ratings  negative_ratings  average_playtime  median_playtime  \\\n",
       "23071                 2                 1                 0                0   \n",
       "\n",
       "        owners  price  \n",
       "23071  0-20000   3.99  "
      ]
     },
     "execution_count": 14,
     "metadata": {},
     "output_type": "execute_result"
    }
   ],
   "source": [
    "df[df['developer'].isnull()]"
   ]
  },
  {
   "cell_type": "markdown",
   "metadata": {},
   "source": [
    "# Encontrando o índice da linha que contém valor nulo na coluna 'publisher'"
   ]
  },
  {
   "cell_type": "code",
   "execution_count": 15,
   "metadata": {},
   "outputs": [
    {
     "data": {
      "text/plain": [
       "10011     True\n",
       "7464      True\n",
       "3420      True\n",
       "23876     True\n",
       "17829     True\n",
       "         ...  \n",
       "9024     False\n",
       "9023     False\n",
       "9022     False\n",
       "9021     False\n",
       "27074    False\n",
       "Name: publisher, Length: 27075, dtype: bool"
      ]
     },
     "execution_count": 15,
     "metadata": {},
     "output_type": "execute_result"
    }
   ],
   "source": [
    "df['publisher'].isnull().sort_values(ascending=False)"
   ]
  },
  {
   "cell_type": "code",
   "execution_count": 16,
   "metadata": {},
   "outputs": [
    {
     "data": {
      "text/html": [
       "<div>\n",
       "<style scoped>\n",
       "    .dataframe tbody tr th:only-of-type {\n",
       "        vertical-align: middle;\n",
       "    }\n",
       "\n",
       "    .dataframe tbody tr th {\n",
       "        vertical-align: top;\n",
       "    }\n",
       "\n",
       "    .dataframe thead th {\n",
       "        text-align: right;\n",
       "    }\n",
       "</style>\n",
       "<table border=\"1\" class=\"dataframe\">\n",
       "  <thead>\n",
       "    <tr style=\"text-align: right;\">\n",
       "      <th></th>\n",
       "      <th>appid</th>\n",
       "      <th>name</th>\n",
       "      <th>release_date</th>\n",
       "      <th>english</th>\n",
       "      <th>developer</th>\n",
       "      <th>publisher</th>\n",
       "      <th>platforms</th>\n",
       "      <th>required_age</th>\n",
       "      <th>categories</th>\n",
       "      <th>genres</th>\n",
       "      <th>steamspy_tags</th>\n",
       "      <th>achievements</th>\n",
       "      <th>positive_ratings</th>\n",
       "      <th>negative_ratings</th>\n",
       "      <th>average_playtime</th>\n",
       "      <th>median_playtime</th>\n",
       "      <th>owners</th>\n",
       "      <th>price</th>\n",
       "    </tr>\n",
       "  </thead>\n",
       "  <tbody>\n",
       "    <tr>\n",
       "      <th>3420</th>\n",
       "      <td>307170</td>\n",
       "      <td>Borealis</td>\n",
       "      <td>2014-09-02</td>\n",
       "      <td>1</td>\n",
       "      <td>Conrad Nelson</td>\n",
       "      <td>NaN</td>\n",
       "      <td>windows</td>\n",
       "      <td>0</td>\n",
       "      <td>Single-player;Steam Achievements;Steam Trading...</td>\n",
       "      <td>Action;Casual;Indie</td>\n",
       "      <td>Casual;Indie;Action</td>\n",
       "      <td>17</td>\n",
       "      <td>301</td>\n",
       "      <td>192</td>\n",
       "      <td>132</td>\n",
       "      <td>146</td>\n",
       "      <td>50000-100000</td>\n",
       "      <td>3.99</td>\n",
       "    </tr>\n",
       "    <tr>\n",
       "      <th>4511</th>\n",
       "      <td>341120</td>\n",
       "      <td>Glorkian Warrior: The Trials Of Glork</td>\n",
       "      <td>2015-03-24</td>\n",
       "      <td>1</td>\n",
       "      <td>Pixeljam</td>\n",
       "      <td>NaN</td>\n",
       "      <td>windows;mac</td>\n",
       "      <td>0</td>\n",
       "      <td>Single-player;Steam Achievements;Full controll...</td>\n",
       "      <td>Indie</td>\n",
       "      <td>Indie;Platformer;Shoot 'Em Up</td>\n",
       "      <td>18</td>\n",
       "      <td>234</td>\n",
       "      <td>26</td>\n",
       "      <td>274</td>\n",
       "      <td>274</td>\n",
       "      <td>20000-50000</td>\n",
       "      <td>2.79</td>\n",
       "    </tr>\n",
       "    <tr>\n",
       "      <th>5229</th>\n",
       "      <td>359370</td>\n",
       "      <td>Pirate's Life</td>\n",
       "      <td>2015-04-17</td>\n",
       "      <td>1</td>\n",
       "      <td>Team Eyepatch</td>\n",
       "      <td>NaN</td>\n",
       "      <td>windows</td>\n",
       "      <td>0</td>\n",
       "      <td>Single-player</td>\n",
       "      <td>Simulation;Strategy</td>\n",
       "      <td>Strategy;Simulation;Pirates</td>\n",
       "      <td>0</td>\n",
       "      <td>25</td>\n",
       "      <td>41</td>\n",
       "      <td>0</td>\n",
       "      <td>0</td>\n",
       "      <td>0-20000</td>\n",
       "      <td>3.99</td>\n",
       "    </tr>\n",
       "    <tr>\n",
       "      <th>7464</th>\n",
       "      <td>422940</td>\n",
       "      <td>Divergence: Online</td>\n",
       "      <td>2016-01-06</td>\n",
       "      <td>1</td>\n",
       "      <td>Stained Glass Llama</td>\n",
       "      <td>NaN</td>\n",
       "      <td>windows</td>\n",
       "      <td>0</td>\n",
       "      <td>Multi-player;MMO;Steam Turn Notifications</td>\n",
       "      <td>Action;Indie;Massively Multiplayer;RPG;Early A...</td>\n",
       "      <td>Early Access;Massively Multiplayer;Indie</td>\n",
       "      <td>0</td>\n",
       "      <td>72</td>\n",
       "      <td>51</td>\n",
       "      <td>0</td>\n",
       "      <td>0</td>\n",
       "      <td>0-20000</td>\n",
       "      <td>14.99</td>\n",
       "    </tr>\n",
       "    <tr>\n",
       "      <th>7911</th>\n",
       "      <td>436240</td>\n",
       "      <td>Melancholy Republic</td>\n",
       "      <td>2018-04-12</td>\n",
       "      <td>1</td>\n",
       "      <td>Cloud Runner Studios</td>\n",
       "      <td>NaN</td>\n",
       "      <td>windows</td>\n",
       "      <td>0</td>\n",
       "      <td>Single-player</td>\n",
       "      <td>Adventure;Casual;Indie</td>\n",
       "      <td>Adventure;Indie;Casual</td>\n",
       "      <td>0</td>\n",
       "      <td>14</td>\n",
       "      <td>6</td>\n",
       "      <td>0</td>\n",
       "      <td>0</td>\n",
       "      <td>0-20000</td>\n",
       "      <td>6.99</td>\n",
       "    </tr>\n",
       "    <tr>\n",
       "      <th>9894</th>\n",
       "      <td>498710</td>\n",
       "      <td>After Dreams</td>\n",
       "      <td>2018-05-06</td>\n",
       "      <td>1</td>\n",
       "      <td>Matt Boyer</td>\n",
       "      <td>NaN</td>\n",
       "      <td>windows</td>\n",
       "      <td>0</td>\n",
       "      <td>Single-player</td>\n",
       "      <td>Violent;Adventure;Casual;Free to Play;Indie;Si...</td>\n",
       "      <td>Free to Play;Adventure;Indie</td>\n",
       "      <td>0</td>\n",
       "      <td>126</td>\n",
       "      <td>47</td>\n",
       "      <td>1</td>\n",
       "      <td>1</td>\n",
       "      <td>20000-50000</td>\n",
       "      <td>0.00</td>\n",
       "    </tr>\n",
       "    <tr>\n",
       "      <th>10011</th>\n",
       "      <td>502150</td>\n",
       "      <td>Interstellar Logistics Inc</td>\n",
       "      <td>2016-08-15</td>\n",
       "      <td>1</td>\n",
       "      <td>Exalted Guy Interactive</td>\n",
       "      <td>NaN</td>\n",
       "      <td>windows</td>\n",
       "      <td>0</td>\n",
       "      <td>Single-player</td>\n",
       "      <td>Casual</td>\n",
       "      <td>Casual;Puzzle;Sci-fi</td>\n",
       "      <td>9</td>\n",
       "      <td>25</td>\n",
       "      <td>4</td>\n",
       "      <td>281</td>\n",
       "      <td>281</td>\n",
       "      <td>0-20000</td>\n",
       "      <td>2.09</td>\n",
       "    </tr>\n",
       "    <tr>\n",
       "      <th>10564</th>\n",
       "      <td>516430</td>\n",
       "      <td>Ruin of the Reckless</td>\n",
       "      <td>2017-04-26</td>\n",
       "      <td>1</td>\n",
       "      <td>Faux-Operative Games</td>\n",
       "      <td>NaN</td>\n",
       "      <td>windows</td>\n",
       "      <td>0</td>\n",
       "      <td>Single-player;Co-op;Local Co-op;Shared/Split S...</td>\n",
       "      <td>Action;Adventure;Indie;RPG</td>\n",
       "      <td>Action;Indie;Adventure</td>\n",
       "      <td>0</td>\n",
       "      <td>63</td>\n",
       "      <td>11</td>\n",
       "      <td>0</td>\n",
       "      <td>0</td>\n",
       "      <td>0-20000</td>\n",
       "      <td>6.99</td>\n",
       "    </tr>\n",
       "    <tr>\n",
       "      <th>11123</th>\n",
       "      <td>531240</td>\n",
       "      <td>Max Stern</td>\n",
       "      <td>2016-10-21</td>\n",
       "      <td>1</td>\n",
       "      <td>Lupan Artiom Oleg</td>\n",
       "      <td>NaN</td>\n",
       "      <td>windows;mac;linux</td>\n",
       "      <td>0</td>\n",
       "      <td>Single-player;Steam Achievements;Steam Trading...</td>\n",
       "      <td>Action;Adventure;Indie</td>\n",
       "      <td>Action;Indie;Adventure</td>\n",
       "      <td>10</td>\n",
       "      <td>17</td>\n",
       "      <td>13</td>\n",
       "      <td>266</td>\n",
       "      <td>266</td>\n",
       "      <td>0-20000</td>\n",
       "      <td>3.99</td>\n",
       "    </tr>\n",
       "    <tr>\n",
       "      <th>13901</th>\n",
       "      <td>610740</td>\n",
       "      <td>SuperCluster: Void</td>\n",
       "      <td>2017-05-15</td>\n",
       "      <td>1</td>\n",
       "      <td>Logan McClure</td>\n",
       "      <td>NaN</td>\n",
       "      <td>windows</td>\n",
       "      <td>0</td>\n",
       "      <td>Single-player</td>\n",
       "      <td>Adventure;Indie;RPG</td>\n",
       "      <td>Adventure;RPG;Indie</td>\n",
       "      <td>0</td>\n",
       "      <td>16</td>\n",
       "      <td>4</td>\n",
       "      <td>0</td>\n",
       "      <td>0</td>\n",
       "      <td>0-20000</td>\n",
       "      <td>3.99</td>\n",
       "    </tr>\n",
       "    <tr>\n",
       "      <th>17829</th>\n",
       "      <td>727280</td>\n",
       "      <td>Scrap</td>\n",
       "      <td>2017-10-18</td>\n",
       "      <td>1</td>\n",
       "      <td>Top Shelf Studios</td>\n",
       "      <td>NaN</td>\n",
       "      <td>windows</td>\n",
       "      <td>0</td>\n",
       "      <td>Single-player;Local Multi-Player;Local Co-op;S...</td>\n",
       "      <td>Action;Free to Play;Indie</td>\n",
       "      <td>Free to Play;Action;Indie</td>\n",
       "      <td>0</td>\n",
       "      <td>24</td>\n",
       "      <td>22</td>\n",
       "      <td>0</td>\n",
       "      <td>0</td>\n",
       "      <td>50000-100000</td>\n",
       "      <td>0.00</td>\n",
       "    </tr>\n",
       "    <tr>\n",
       "      <th>22867</th>\n",
       "      <td>875710</td>\n",
       "      <td>BRANE™: Prototype</td>\n",
       "      <td>2018-07-01</td>\n",
       "      <td>1</td>\n",
       "      <td>John Wanot</td>\n",
       "      <td>NaN</td>\n",
       "      <td>windows;linux</td>\n",
       "      <td>0</td>\n",
       "      <td>Single-player</td>\n",
       "      <td>Casual;Indie</td>\n",
       "      <td>Indie;Casual</td>\n",
       "      <td>0</td>\n",
       "      <td>5</td>\n",
       "      <td>1</td>\n",
       "      <td>0</td>\n",
       "      <td>0</td>\n",
       "      <td>0-20000</td>\n",
       "      <td>0.00</td>\n",
       "    </tr>\n",
       "    <tr>\n",
       "      <th>23071</th>\n",
       "      <td>881910</td>\n",
       "      <td>The Battle Of Ages</td>\n",
       "      <td>2018-09-07</td>\n",
       "      <td>1</td>\n",
       "      <td>NaN</td>\n",
       "      <td>NaN</td>\n",
       "      <td>windows</td>\n",
       "      <td>0</td>\n",
       "      <td>Multi-player;Online Multi-Player</td>\n",
       "      <td>Action;Indie;Massively Multiplayer;RPG;Early A...</td>\n",
       "      <td>Early Access;Action;Massively Multiplayer</td>\n",
       "      <td>0</td>\n",
       "      <td>2</td>\n",
       "      <td>1</td>\n",
       "      <td>0</td>\n",
       "      <td>0</td>\n",
       "      <td>0-20000</td>\n",
       "      <td>3.99</td>\n",
       "    </tr>\n",
       "    <tr>\n",
       "      <th>23876</th>\n",
       "      <td>911050</td>\n",
       "      <td>Holiday Escape</td>\n",
       "      <td>2018-08-18</td>\n",
       "      <td>1</td>\n",
       "      <td>Kit Gardner;Sam Robinson;Holly Gardner;Jason R...</td>\n",
       "      <td>NaN</td>\n",
       "      <td>windows</td>\n",
       "      <td>0</td>\n",
       "      <td>Single-player</td>\n",
       "      <td>Action;Casual;Free to Play</td>\n",
       "      <td>Free to Play;Casual;Action</td>\n",
       "      <td>0</td>\n",
       "      <td>12</td>\n",
       "      <td>7</td>\n",
       "      <td>0</td>\n",
       "      <td>0</td>\n",
       "      <td>0-20000</td>\n",
       "      <td>0.00</td>\n",
       "    </tr>\n",
       "  </tbody>\n",
       "</table>\n",
       "</div>"
      ],
      "text/plain": [
       "        appid                                   name release_date  english  \\\n",
       "3420   307170                               Borealis   2014-09-02        1   \n",
       "4511   341120  Glorkian Warrior: The Trials Of Glork   2015-03-24        1   \n",
       "5229   359370                          Pirate's Life   2015-04-17        1   \n",
       "7464   422940                     Divergence: Online   2016-01-06        1   \n",
       "7911   436240                    Melancholy Republic   2018-04-12        1   \n",
       "9894   498710                           After Dreams   2018-05-06        1   \n",
       "10011  502150             Interstellar Logistics Inc   2016-08-15        1   \n",
       "10564  516430                   Ruin of the Reckless   2017-04-26        1   \n",
       "11123  531240                              Max Stern   2016-10-21        1   \n",
       "13901  610740                     SuperCluster: Void   2017-05-15        1   \n",
       "17829  727280                                  Scrap   2017-10-18        1   \n",
       "22867  875710                      BRANE™: Prototype   2018-07-01        1   \n",
       "23071  881910                     The Battle Of Ages   2018-09-07        1   \n",
       "23876  911050                         Holiday Escape   2018-08-18        1   \n",
       "\n",
       "                                               developer publisher  \\\n",
       "3420                                       Conrad Nelson       NaN   \n",
       "4511                                            Pixeljam       NaN   \n",
       "5229                                       Team Eyepatch       NaN   \n",
       "7464                                 Stained Glass Llama       NaN   \n",
       "7911                                Cloud Runner Studios       NaN   \n",
       "9894                                          Matt Boyer       NaN   \n",
       "10011                            Exalted Guy Interactive       NaN   \n",
       "10564                               Faux-Operative Games       NaN   \n",
       "11123                                  Lupan Artiom Oleg       NaN   \n",
       "13901                                      Logan McClure       NaN   \n",
       "17829                                  Top Shelf Studios       NaN   \n",
       "22867                                         John Wanot       NaN   \n",
       "23071                                                NaN       NaN   \n",
       "23876  Kit Gardner;Sam Robinson;Holly Gardner;Jason R...       NaN   \n",
       "\n",
       "               platforms  required_age  \\\n",
       "3420             windows             0   \n",
       "4511         windows;mac             0   \n",
       "5229             windows             0   \n",
       "7464             windows             0   \n",
       "7911             windows             0   \n",
       "9894             windows             0   \n",
       "10011            windows             0   \n",
       "10564            windows             0   \n",
       "11123  windows;mac;linux             0   \n",
       "13901            windows             0   \n",
       "17829            windows             0   \n",
       "22867      windows;linux             0   \n",
       "23071            windows             0   \n",
       "23876            windows             0   \n",
       "\n",
       "                                              categories  \\\n",
       "3420   Single-player;Steam Achievements;Steam Trading...   \n",
       "4511   Single-player;Steam Achievements;Full controll...   \n",
       "5229                                       Single-player   \n",
       "7464           Multi-player;MMO;Steam Turn Notifications   \n",
       "7911                                       Single-player   \n",
       "9894                                       Single-player   \n",
       "10011                                      Single-player   \n",
       "10564  Single-player;Co-op;Local Co-op;Shared/Split S...   \n",
       "11123  Single-player;Steam Achievements;Steam Trading...   \n",
       "13901                                      Single-player   \n",
       "17829  Single-player;Local Multi-Player;Local Co-op;S...   \n",
       "22867                                      Single-player   \n",
       "23071                   Multi-player;Online Multi-Player   \n",
       "23876                                      Single-player   \n",
       "\n",
       "                                                  genres  \\\n",
       "3420                                 Action;Casual;Indie   \n",
       "4511                                               Indie   \n",
       "5229                                 Simulation;Strategy   \n",
       "7464   Action;Indie;Massively Multiplayer;RPG;Early A...   \n",
       "7911                              Adventure;Casual;Indie   \n",
       "9894   Violent;Adventure;Casual;Free to Play;Indie;Si...   \n",
       "10011                                             Casual   \n",
       "10564                         Action;Adventure;Indie;RPG   \n",
       "11123                             Action;Adventure;Indie   \n",
       "13901                                Adventure;Indie;RPG   \n",
       "17829                          Action;Free to Play;Indie   \n",
       "22867                                       Casual;Indie   \n",
       "23071  Action;Indie;Massively Multiplayer;RPG;Early A...   \n",
       "23876                         Action;Casual;Free to Play   \n",
       "\n",
       "                                   steamspy_tags  achievements  \\\n",
       "3420                         Casual;Indie;Action            17   \n",
       "4511               Indie;Platformer;Shoot 'Em Up            18   \n",
       "5229                 Strategy;Simulation;Pirates             0   \n",
       "7464    Early Access;Massively Multiplayer;Indie             0   \n",
       "7911                      Adventure;Indie;Casual             0   \n",
       "9894                Free to Play;Adventure;Indie             0   \n",
       "10011                       Casual;Puzzle;Sci-fi             9   \n",
       "10564                     Action;Indie;Adventure             0   \n",
       "11123                     Action;Indie;Adventure            10   \n",
       "13901                        Adventure;RPG;Indie             0   \n",
       "17829                  Free to Play;Action;Indie             0   \n",
       "22867                               Indie;Casual             0   \n",
       "23071  Early Access;Action;Massively Multiplayer             0   \n",
       "23876                 Free to Play;Casual;Action             0   \n",
       "\n",
       "       positive_ratings  negative_ratings  average_playtime  median_playtime  \\\n",
       "3420                301               192               132              146   \n",
       "4511                234                26               274              274   \n",
       "5229                 25                41                 0                0   \n",
       "7464                 72                51                 0                0   \n",
       "7911                 14                 6                 0                0   \n",
       "9894                126                47                 1                1   \n",
       "10011                25                 4               281              281   \n",
       "10564                63                11                 0                0   \n",
       "11123                17                13               266              266   \n",
       "13901                16                 4                 0                0   \n",
       "17829                24                22                 0                0   \n",
       "22867                 5                 1                 0                0   \n",
       "23071                 2                 1                 0                0   \n",
       "23876                12                 7                 0                0   \n",
       "\n",
       "             owners  price  \n",
       "3420   50000-100000   3.99  \n",
       "4511    20000-50000   2.79  \n",
       "5229        0-20000   3.99  \n",
       "7464        0-20000  14.99  \n",
       "7911        0-20000   6.99  \n",
       "9894    20000-50000   0.00  \n",
       "10011       0-20000   2.09  \n",
       "10564       0-20000   6.99  \n",
       "11123       0-20000   3.99  \n",
       "13901       0-20000   3.99  \n",
       "17829  50000-100000   0.00  \n",
       "22867       0-20000   0.00  \n",
       "23071       0-20000   3.99  \n",
       "23876       0-20000   0.00  "
      ]
     },
     "execution_count": 16,
     "metadata": {},
     "output_type": "execute_result"
    }
   ],
   "source": [
    "df[df['publisher'].isnull()]"
   ]
  },
  {
   "cell_type": "markdown",
   "metadata": {},
   "source": []
  },
  {
   "cell_type": "markdown",
   "metadata": {},
   "source": [
    "Excluindo valores nulos"
   ]
  },
  {
   "cell_type": "code",
   "execution_count": 17,
   "metadata": {},
   "outputs": [],
   "source": [
    "df.dropna(how='any',subset='developer', inplace=True)"
   ]
  },
  {
   "cell_type": "code",
   "execution_count": 18,
   "metadata": {},
   "outputs": [
    {
     "data": {
      "text/plain": [
       "appid                0\n",
       "name                 0\n",
       "release_date         0\n",
       "english              0\n",
       "developer            0\n",
       "publisher           13\n",
       "platforms            0\n",
       "required_age         0\n",
       "categories           0\n",
       "genres               0\n",
       "steamspy_tags        0\n",
       "achievements         0\n",
       "positive_ratings     0\n",
       "negative_ratings     0\n",
       "average_playtime     0\n",
       "median_playtime      0\n",
       "owners               0\n",
       "price                0\n",
       "dtype: int64"
      ]
     },
     "execution_count": 18,
     "metadata": {},
     "output_type": "execute_result"
    }
   ],
   "source": [
    "df.isnull().sum()"
   ]
  },
  {
   "cell_type": "markdown",
   "metadata": {},
   "source": [
    "# explorando colunas"
   ]
  },
  {
   "cell_type": "code",
   "execution_count": 19,
   "metadata": {},
   "outputs": [
    {
     "data": {
      "text/plain": [
       "0        0\n",
       "1        0\n",
       "2        0\n",
       "3        0\n",
       "4        0\n",
       "        ..\n",
       "27070    0\n",
       "27071    0\n",
       "27072    0\n",
       "27073    0\n",
       "27074    0\n",
       "Name: required_age, Length: 27074, dtype: int64"
      ]
     },
     "execution_count": 19,
     "metadata": {},
     "output_type": "execute_result"
    }
   ],
   "source": [
    "df.required_age"
   ]
  },
  {
   "cell_type": "code",
   "execution_count": 20,
   "metadata": {},
   "outputs": [
    {
     "data": {
      "text/plain": [
       "array([ 0, 18, 16, 12,  7,  3], dtype=int64)"
      ]
     },
     "execution_count": 20,
     "metadata": {},
     "output_type": "execute_result"
    }
   ],
   "source": [
    "df.required_age.unique()"
   ]
  },
  {
   "cell_type": "markdown",
   "metadata": {},
   "source": [
    "### Após a análise da coluna required_age podemos entender que os jogos tem faixa etária variando de 0 anos (licença livre) até 18 anos (para jogar deve-se ter pelo menos 18 anos)"
   ]
  },
  {
   "cell_type": "code",
   "execution_count": 21,
   "metadata": {},
   "outputs": [
    {
     "data": {
      "text/plain": [
       "array([1, 0], dtype=int64)"
      ]
     },
     "execution_count": 21,
     "metadata": {},
     "output_type": "execute_result"
    }
   ],
   "source": [
    "df['english'].unique()"
   ]
  },
  {
   "cell_type": "markdown",
   "metadata": {},
   "source": [
    "# a coluna contém apenas dois valores, mostrando se o jogo tem o idioma inglês ou não."
   ]
  },
  {
   "cell_type": "code",
   "execution_count": 22,
   "metadata": {},
   "outputs": [
    {
     "data": {
      "text/plain": [
       "<Axes: ylabel='proportion'>"
      ]
     },
     "execution_count": 22,
     "metadata": {},
     "output_type": "execute_result"
    },
    {
     "data": {
      "image/png": "[encoded data removed]",
      "text/plain": [
       "<Figure size 640x480 with 1 Axes>"
      ]
     },
     "metadata": {},
     "output_type": "display_data"
    }
   ],
   "source": [
    "df[['english']].value_counts(normalize=True).plot(kind='pie')"
   ]
  },
  {
   "cell_type": "markdown",
   "metadata": {},
   "source": [
    "# gráfico de proporção idioma inglês"
   ]
  },
  {
   "cell_type": "code",
   "execution_count": 23,
   "metadata": {},
   "outputs": [
    {
     "data": {
      "text/plain": [
       "13536      0.00\n",
       "23836      0.00\n",
       "23833      0.00\n",
       "23832      0.00\n",
       "12217      0.00\n",
       "          ...  \n",
       "10910    154.99\n",
       "7992     154.99\n",
       "10034    209.99\n",
       "13062    303.99\n",
       "21105    421.99\n",
       "Name: price, Length: 27074, dtype: float64"
      ]
     },
     "execution_count": 23,
     "metadata": {},
     "output_type": "execute_result"
    }
   ],
   "source": [
    "df[\"price\"].sort_values()"
   ]
  },
  {
   "cell_type": "code",
   "execution_count": 24,
   "metadata": {},
   "outputs": [
    {
     "data": {
      "text/plain": [
       "price\n",
       "3.99      3210\n",
       "0.79      2892\n",
       "0.00      2560\n",
       "6.99      2050\n",
       "7.19      1304\n",
       "          ... \n",
       "5.20         1\n",
       "5.34         1\n",
       "12.89        1\n",
       "12.58        1\n",
       "421.99       1\n",
       "Name: count, Length: 282, dtype: int64"
      ]
     },
     "execution_count": 24,
     "metadata": {},
     "output_type": "execute_result"
    }
   ],
   "source": [
    "df[\"price\"].sort_values().value_counts()"
   ]
  },
  {
   "cell_type": "code",
   "execution_count": 25,
   "metadata": {},
   "outputs": [
    {
     "data": {
      "image/png": "[encoded data removed]",
      "text/plain": [
       "<Figure size 640x480 with 1 Axes>"
      ]
     },
     "metadata": {},
     "output_type": "display_data"
    }
   ],
   "source": [
    "gratuito, pago = df[df['price'] == 0].shape[0], df[df['price'] != 0].shape[0]\n",
    "labels = ['Gratuito', 'Pago']\n",
    "\n",
    "# Gere um gráfico de pizza\n",
    "plt.pie([gratuito, pago], labels=labels, autopct='%1.1f%%', startangle=90, colors=['skyblue', 'lightcoral'])\n",
    "\n",
    "# Adicione um título ao gráfico\n",
    "plt.title('Proporção de Jogos Gratuitos e Pagos')\n",
    "\n",
    "# Exiba o gráfico\n",
    "plt.show()"
   ]
  },
  {
   "cell_type": "code",
   "execution_count": 26,
   "metadata": {},
   "outputs": [
    {
     "data": {
      "text/plain": [
       "Index(['appid', 'name', 'release_date', 'english', 'developer', 'publisher',\n",
       "       'platforms', 'required_age', 'categories', 'genres', 'steamspy_tags',\n",
       "       'achievements', 'positive_ratings', 'negative_ratings',\n",
       "       'average_playtime', 'median_playtime', 'owners', 'price'],\n",
       "      dtype='object')"
      ]
     },
     "execution_count": 26,
     "metadata": {},
     "output_type": "execute_result"
    }
   ],
   "source": [
    "df.columns"
   ]
  },
  {
   "cell_type": "code",
   "execution_count": 27,
   "metadata": {},
   "outputs": [
    {
     "data": {
      "text/plain": [
       "5307"
      ]
     },
     "execution_count": 27,
     "metadata": {},
     "output_type": "execute_result"
    }
   ],
   "source": [
    "multiplayer = df['categories'].apply(lambda x : 'multi-player' in x.lower())\n",
    "df[multiplayer]\n",
    "df[multiplayer].shape[0]\n",
    "\n",
    "#descobrir quantos jogos são multiplayer"
   ]
  },
  {
   "cell_type": "code",
   "execution_count": 28,
   "metadata": {},
   "outputs": [
    {
     "data": {
      "text/plain": [
       "21767"
      ]
     },
     "execution_count": 28,
     "metadata": {},
     "output_type": "execute_result"
    }
   ],
   "source": [
    "not_multiplayer =  df['categories'].apply(lambda x : 'multi-player' not in x.lower())\n",
    "df[not_multiplayer].shape[0]\n",
    "\n",
    "#descobrir quantos jogos não são multiplayer"
   ]
  },
  {
   "cell_type": "markdown",
   "metadata": {},
   "source": [
    "# gráfico jogos multiplayer"
   ]
  },
  {
   "cell_type": "code",
   "execution_count": 29,
   "metadata": {},
   "outputs": [
    {
     "data": {
      "image/png": "[encoded data removed]",
      "text/plain": [
       "<Figure size 640x480 with 1 Axes>"
      ]
     },
     "metadata": {},
     "output_type": "display_data"
    }
   ],
   "source": [
    "multiplayer, not_multiplayer = df[multiplayer].shape[0], df[not_multiplayer].shape[0]\n",
    "labels = ['multiplayer', 'not multiplayer']\n",
    "\n",
    "# Gere um gráfico de pizza\n",
    "plt.pie([multiplayer, not_multiplayer],labels=labels)\n",
    "\n",
    "# Adicione um título ao gráfico\n",
    "plt.title('Proporção de Jogos multiplayers e Não multiplayers')\n",
    "\n",
    "# Exiba o gráfico\n",
    "plt.show()"
   ]
  },
  {
   "cell_type": "markdown",
   "metadata": {},
   "source": [
    "# Análisando as plataformas que os jogos atuam visando comparar quantos jogos para Windows existem em relação aos demas"
   ]
  },
  {
   "cell_type": "code",
   "execution_count": 30,
   "metadata": {},
   "outputs": [
    {
     "data": {
      "text/plain": [
       "array(['windows;mac;linux', 'windows;mac', 'windows', 'windows;linux',\n",
       "       'mac', 'mac;linux', 'linux'], dtype=object)"
      ]
     },
     "execution_count": 30,
     "metadata": {},
     "output_type": "execute_result"
    }
   ],
   "source": [
    "df['platforms'].unique()"
   ]
  },
  {
   "cell_type": "code",
   "execution_count": 33,
   "metadata": {},
   "outputs": [
    {
     "data": {
      "image/png": "[encoded data removed]",
      "text/plain": [
       "<Figure size 640x480 with 1 Axes>"
      ]
     },
     "metadata": {},
     "output_type": "display_data"
    }
   ],
   "source": [
    "windows = df['platforms'].apply(lambda x : 'windows' in x.lower())\n",
    "df[windows]\n",
    "df[windows].shape[0]\n",
    "\n",
    "not_windows =  df['platforms'].apply(lambda x : 'windows' not in x.lower())\n",
    "df[windows].shape[0]\n",
    "\n",
    "windows, not_windows = df[windows].shape[0], df[not_windows].shape[0]\n",
    "labels = ['windows', 'not windows']\n",
    "\n",
    "# Gere um gráfico de pizza\n",
    "plt.pie([windows, not_windows],labels=labels,autopct='%1.1f%%', startangle=90, colors=['skyblue', 'lightcoral'])\n",
    "\n",
    "# Adicione um título ao gráfico\n",
    "plt.title('Proporção de Jogos Windows e Não Windows')\n",
    "\n",
    "# Exiba o gráfico\n",
    "plt.show()"
   ]
  },
  {
   "cell_type": "code",
   "execution_count": 34,
   "metadata": {},
   "outputs": [
    {
     "data": {
      "image/png": "[encoded data removed]",
      "text/plain": [
       "<Figure size 640x480 with 1 Axes>"
      ]
     },
     "metadata": {},
     "output_type": "display_data"
    }
   ],
   "source": [
    "import matplotlib.pyplot as plt\n",
    "\n",
    "# Criar variáveis para contar o número de jogos Windows e não Windows\n",
    "windows = df['platforms'].apply(lambda x: 'windows' in x.lower())\n",
    "not_windows = df['platforms'].apply(lambda x: 'windows' not in x.lower())\n",
    "\n",
    "windows_count = df[windows].shape[0]\n",
    "not_windows_count = df[not_windows].shape[0]\n",
    "\n",
    "# Criar barras\n",
    "heights = [windows_count, not_windows_count]\n",
    "labels = ['Windows', 'Não Windows']\n",
    "colors = ['skyblue', 'lightcoral']\n",
    "\n",
    "# Criar o gráfico de barras\n",
    "plt.bar(labels, heights, color=colors)\n",
    "\n",
    "# Adicionar rótulos aos eixos e um título ao gráfico\n",
    "plt.xlabel('Plataforma')\n",
    "plt.ylabel('Número de Jogos')\n",
    "plt.title('Número de Jogos Windows e Não Windows')\n",
    "\n",
    "# Exibir o gráfico\n",
    "plt.show()\n"
   ]
  },
  {
   "cell_type": "markdown",
   "metadata": {},
   "source": [
    "# Comparativo de jogos que as plataformas tem acesso"
   ]
  },
  {
   "cell_type": "code",
   "execution_count": 36,
   "metadata": {},
   "outputs": [
    {
     "data": {
      "image/png": "[encoded data removed]",
      "text/plain": [
       "<Figure size 640x480 with 1 Axes>"
      ]
     },
     "metadata": {},
     "output_type": "display_data"
    }
   ],
   "source": [
    "import matplotlib.pyplot as plt\n",
    "\n",
    "# Criar variáveis para contar o número de jogos Windows e não Windows\n",
    "windows = df['platforms'].apply(lambda x: 'windows' in x.lower())\n",
    "mac = df['platforms'].apply(lambda x: 'mac' in x.lower())\n",
    "linux = df['platforms'].apply(lambda x: 'linux' in x.lower())\n",
    "\n",
    "\n",
    "windows_count = df[windows].shape[0]\n",
    "mac_count = df[mac].shape[0]\n",
    "linux_count = df[linux].shape[0]\n",
    "\n",
    "# Criar barras\n",
    "heights = [windows_count, mac_count,linux_count]\n",
    "labels = ['Windows', 'Mac', 'Linux']\n",
    "colors = ['skyblue', 'lightcoral','black']\n",
    "\n",
    "# Criar o gráfico de barras\n",
    "plt.bar(labels, heights, color=colors)\n",
    "\n",
    "# Adicionar rótulos aos eixos e um título ao gráfico\n",
    "plt.xlabel('Plataforma')\n",
    "plt.ylabel('Número de Jogos')\n",
    "plt.title('Comparativo de jogos entre as plataformas')\n",
    "\n",
    "# Exibir o gráfico\n",
    "plt.show()\n"
   ]
  }
 ],
 "metadata": {
  "kernelspec": {
   "display_name": "projetopandas-m3gSDP29",
   "language": "python",
   "name": "python3"
  },
  "language_info": {
   "codemirror_mode": {
    "name": "ipython",
    "version": 3
   },
   "file_extension": ".py",
   "mimetype": "text/x-python",
   "name": "python",
   "nbconvert_exporter": "python",
   "pygments_lexer": "ipython3",
   "version": "3.11.5"
  }
 },
 "nbformat": 4,
 "nbformat_minor": 2
}
